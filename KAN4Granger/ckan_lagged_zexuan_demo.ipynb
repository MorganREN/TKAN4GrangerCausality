{
 "cells": [
  {
   "cell_type": "code",
   "execution_count": null,
   "metadata": {},
   "outputs": [],
   "source": [
    "import torch\n",
    "import numpy as np\n",
    "import matplotlib.pyplot as plt\n",
    "from synthetic import generate_ds1\n",
    "from kan import KAN"
   ]
  },
  {
   "cell_type": "code",
   "execution_count": null,
   "metadata": {},
   "outputs": [],
   "source": [
    "lag = 4  # number of lags\n",
    "T = 1000  # number of time points\n",
    "num_series = 3  # number of time series\n",
    "\n",
    "batch_size = 32\n",
    "epochs = 20\n",
    "lr = 1e-3\n",
    "sparsity = 0.8\n",
    "max_iter = 30\n",
    "\n",
    "dim_input = num_series * lag\n",
    "dim_output = 1\n",
    "\n",
    "width = [dim_input, 16, dim_output]\n",
    "\n",
    "device = torch.device('cuda' if torch.cuda.is_available() else 'cpu')"
   ]
  },
  {
   "cell_type": "code",
   "execution_count": null,
   "metadata": {},
   "outputs": [],
   "source": [
    "X_np = generate_ds1(sig_to_noise=100)\n",
    "X_np"
   ]
  },
  {
   "cell_type": "code",
   "execution_count": null,
   "metadata": {},
   "outputs": [],
   "source": [
    "# Plot data\n",
    "for i in range(len(X_np.columns)):\n",
    "    plt.plot(X_np.index, X_np.iloc[:, i], label='Series {}'.format(X_np.columns[i]))\n",
    "plt.legend()\n",
    "plt.show()"
   ]
  },
  {
   "cell_type": "code",
   "execution_count": null,
   "metadata": {},
   "outputs": [],
   "source": [
    "# transfer dataframe to tensor \n",
    "X_np = torch.tensor(X_np.values, dtype=torch.float32).to(device)\n",
    "\n",
    "# add one new dimension to the tensor\n",
    "X = X_np.unsqueeze(0)\n",
    "X.shape"
   ]
  },
  {
   "cell_type": "code",
   "execution_count": null,
   "metadata": {},
   "outputs": [],
   "source": [
    "train = X[:, :, :-2]\n",
    "y_no_GC = X[:, :, -2]\n",
    "y_GC = X[:, :, -1]\n",
    "\n",
    "# rearrrange the data\n",
    "def rearrange_data(train, y, lag):\n",
    "    li = []\n",
    "    for i in range(train.shape[2]):\n",
    "        for j in range(lag):\n",
    "            li.append(train[0, :, i].detach().numpy()[j:-lag+j])\n",
    "    train = torch.tensor(np.array(li).T, dtype=torch.float32).to(device)\n",
    "\n",
    "    y = y[:, lag:].T\n",
    "    array = torch.cat((train, y), 1)\n",
    "    \n",
    "    return array\n",
    "    \n",
    "array_no_GC = rearrange_data(train, y_no_GC, lag)\n",
    "array_GC = rearrange_data(train, y_GC, lag)\n",
    "array_no_GC.shape"
   ]
  },
  {
   "cell_type": "code",
   "execution_count": null,
   "metadata": {},
   "outputs": [],
   "source": [
    "def create_dataset(X):\n",
    "    dataset = {}\n",
    "    dataset['train_input'] = X[:, :-1]\n",
    "    dataset['test_input'] = X[:, :-1]\n",
    "    dataset['train_label'] = X[:, -1]\n",
    "    dataset['test_label'] = X[:, -1]\n",
    "\n",
    "    return dataset"
   ]
  },
  {
   "cell_type": "code",
   "execution_count": null,
   "metadata": {},
   "outputs": [],
   "source": [
    "ds_GC = create_dataset(array_no_GC)\n",
    "ds_no_GC = create_dataset(array_GC)"
   ]
  },
  {
   "cell_type": "markdown",
   "metadata": {},
   "source": [
    "## Build KAN for Dataset with GC"
   ]
  },
  {
   "cell_type": "code",
   "execution_count": null,
   "metadata": {},
   "outputs": [],
   "source": [
    "model1 = KAN(width=width, grid=3, k=3, seed=42)\n",
    "loss1 = model1.fit(ds_GC, opt='LBFGS', steps=max_iter, lamb=0.001)['train_loss']\n",
    "\n",
    "# plot loss1\n",
    "plt.plot(loss1)\n",
    "plt.show()\n"
   ]
  },
  {
   "cell_type": "code",
   "execution_count": null,
   "metadata": {},
   "outputs": [],
   "source": [
    "# model1.plot()"
   ]
  },
  {
   "cell_type": "code",
   "execution_count": null,
   "metadata": {},
   "outputs": [],
   "source": [
    "def get_ts_scores(model):\n",
    "    ts_scores = model.node_scores[0].view(3, lag).sum(dim=1).detach().numpy()\n",
    "    return ts_scores"
   ]
  },
  {
   "cell_type": "markdown",
   "metadata": {},
   "source": [
    "## Build KAN for Dataset with GC"
   ]
  },
  {
   "cell_type": "code",
   "execution_count": null,
   "metadata": {},
   "outputs": [],
   "source": [
    "model2 = KAN(width=width, grid=3, k=3, seed=42)\n",
    "loss2 = model2.fit(ds_no_GC, opt='LBFGS', steps=max_iter, lamb=0.001)['train_loss']\n",
    "\n",
    "# plot loss2\n",
    "plt.plot(loss2)\n",
    "plt.show()"
   ]
  },
  {
   "cell_type": "code",
   "execution_count": null,
   "metadata": {},
   "outputs": [],
   "source": [
    "# model2.plot()"
   ]
  },
  {
   "cell_type": "code",
   "execution_count": null,
   "metadata": {},
   "outputs": [],
   "source": [
    "print('GC score for model1:', get_ts_scores(model1))\n",
    "print('GC score for model2:', get_ts_scores(model2))"
   ]
  }
 ],
 "metadata": {
  "kernelspec": {
   "display_name": "base",
   "language": "python",
   "name": "python3"
  },
  "language_info": {
   "codemirror_mode": {
    "name": "ipython",
    "version": 3
   },
   "file_extension": ".py",
   "mimetype": "text/x-python",
   "name": "python",
   "nbconvert_exporter": "python",
   "pygments_lexer": "ipython3",
   "version": "3.11.5"
  }
 },
 "nbformat": 4,
 "nbformat_minor": 2
}
